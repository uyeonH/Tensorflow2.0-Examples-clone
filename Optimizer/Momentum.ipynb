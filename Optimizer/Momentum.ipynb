{
  "nbformat": 4,
  "nbformat_minor": 0,
  "metadata": {
    "colab": {
      "name": "Momentum",
      "provenance": [],
      "authorship_tag": "ABX9TyO1ZgrVu23AOc9cKJDDZDDz",
      "include_colab_link": true
    },
    "kernelspec": {
      "name": "python3",
      "display_name": "Python 3"
    }
  },
  "cells": [
    {
      "cell_type": "markdown",
      "metadata": {
        "id": "view-in-github",
        "colab_type": "text"
      },
      "source": [
        "<a href=\"https://colab.research.google.com/github/uyeonH/Tensorflow2.0-Tutorial/blob/master/Optimizer/Momentum.ipynb\" target=\"_parent\"><img src=\"https://colab.research.google.com/assets/colab-badge.svg\" alt=\"Open In Colab\"/></a>"
      ]
    },
    {
      "cell_type": "code",
      "metadata": {
        "id": "H8IqfPB63dC2",
        "colab_type": "code",
        "colab": {}
      },
      "source": [
        "!pip install -q tensorflow-gpu==2.0.0-rc1"
      ],
      "execution_count": 0,
      "outputs": []
    },
    {
      "cell_type": "code",
      "metadata": {
        "id": "BZt4orJS28YG",
        "colab_type": "code",
        "colab": {}
      },
      "source": [
        "import tensorflow as tf\n",
        "import matplotlib.pyplot as plt\n",
        "\n",
        "%matplotlib inline"
      ],
      "execution_count": 0,
      "outputs": []
    },
    {
      "cell_type": "markdown",
      "metadata": {
        "id": "IBiO2Gi_4bOs",
        "colab_type": "text"
      },
      "source": [
        "변수 X, 상수 Y=10, H=X*2"
      ]
    },
    {
      "cell_type": "code",
      "metadata": {
        "id": "tDHkXbUu2-b2",
        "colab_type": "code",
        "colab": {
          "base_uri": "https://localhost:8080/",
          "height": 54
        },
        "outputId": "5f7a1982-4aee-46cb-c199-c53b49404c0e"
      },
      "source": [
        "X = tf.Variable(0.)\n",
        "Y = tf.constant(10.)\n",
        "H = 2 * X\n",
        "\n",
        "print(X,Y,H)"
      ],
      "execution_count": 25,
      "outputs": [
        {
          "output_type": "stream",
          "text": [
            "<tf.Variable 'Variable_4:0' shape=() dtype=float32_ref> Tensor(\"Const_4:0\", shape=(), dtype=float32) Tensor(\"mul_4:0\", shape=(), dtype=float32)\n"
          ],
          "name": "stdout"
        }
      ]
    },
    {
      "cell_type": "markdown",
      "metadata": {
        "id": "V86iYvMd4geX",
        "colab_type": "text"
      },
      "source": [
        "Loss = {예측값(H) - 정답(Y)}의 제곱\n",
        "Momentum Optimizer에 Learning rate =0.05, Momentum=0.03으로 설정함"
      ]
    },
    {
      "cell_type": "code",
      "metadata": {
        "id": "bBT40tW-3BgM",
        "colab_type": "code",
        "colab": {}
      },
      "source": [
        "loss = tf.square(H-Y)\n",
        "optimize = tf.train.MomentumOptimizer(0.05, 0.03).minimize(loss)"
      ],
      "execution_count": 0,
      "outputs": []
    },
    {
      "cell_type": "markdown",
      "metadata": {
        "id": "wydq2K0g49h9",
        "colab_type": "text"
      },
      "source": [
        "tf.global_variables_initializer() : 초기화함수 호출\n",
        "session run을 10번 반복"
      ]
    },
    {
      "cell_type": "code",
      "metadata": {
        "id": "EcJHqSn53DlZ",
        "colab_type": "code",
        "colab": {
          "base_uri": "https://localhost:8080/",
          "height": 185
        },
        "outputId": "a1d0b472-8cea-46a3-c7d0-52005e8717dd"
      },
      "source": [
        "sess = tf.Session()\n",
        "sess.run(tf.global_variables_initializer())\n",
        "sequence = []\n",
        "\n",
        "for i in range(10):\n",
        "    print(\"x_%i = %s\" %(+i, sess.run(X)))\n",
        "    sess.run(optimize)\n",
        "    sequence.append(sess.run(X))"
      ],
      "execution_count": 27,
      "outputs": [
        {
          "output_type": "stream",
          "text": [
            "x_0 = 0.0\n",
            "x_1 = 2.0\n",
            "x_2 = 3.26\n",
            "x_3 = 3.9938\n",
            "x_4 = 4.418294\n",
            "x_5 = 4.663711\n",
            "x_6 = 4.805589\n",
            "x_7 = 4.88761\n",
            "x_8 = 4.9350266\n",
            "x_9 = 4.9624386\n"
          ],
          "name": "stdout"
        }
      ]
    },
    {
      "cell_type": "code",
      "metadata": {
        "id": "JHhjeT6i3Dop",
        "colab_type": "code",
        "colab": {
          "base_uri": "https://localhost:8080/",
          "height": 325
        },
        "outputId": "ae934ccd-fcc6-46b9-ef68-9ed75ab0d064"
      },
      "source": [
        "plt.suptitle(\"Sequence of x\", fontsize=20)\n",
        "plt.ylabel(\"x value\")\n",
        "plt.xlabel(\"Steps\")\n",
        "plt.plot(sequence, \"o\")"
      ],
      "execution_count": 28,
      "outputs": [
        {
          "output_type": "execute_result",
          "data": {
            "text/plain": [
              "[<matplotlib.lines.Line2D at 0x7fd364392400>]"
            ]
          },
          "metadata": {
            "tags": []
          },
          "execution_count": 28
        },
        {
          "output_type": "display_data",
          "data": {
            "image/png": "[encoded data removed]",
            "text/plain": [
              "<Figure size 432x288 with 1 Axes>"
            ]
          },
          "metadata": {
            "tags": []
          }
        }
      ]
    },
    {
      "cell_type": "code",
      "metadata": {
        "id": "bfDBv9nm4I-f",
        "colab_type": "code",
        "colab": {}
      },
      "source": [
        ""
      ],
      "execution_count": 0,
      "outputs": []
    }
  ]
}